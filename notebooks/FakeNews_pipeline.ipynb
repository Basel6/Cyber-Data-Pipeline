{
 "cells": [
  {
   "cell_type": "markdown",
   "id": "74ea02f5",
   "metadata": {},
   "source": [
    "# Cyber Data Science – Full Pipeline\n",
    "\n",
    "Author: Basel Shaer\n",
    "\n",
    "---"
   ]
  },
  {
   "cell_type": "markdown",
   "id": "1981c165",
   "metadata": {},
   "source": [
    "# 1. Dataset Justification\n",
    "\n",
    "I selected the **\"Fake and Real News Dataset\"** from Kaggle because it provides a rich combination of textual, categorical, and temporal data that supports a full end-to-end data science pipeline. It includes news articles labeled as either *fake* or *real*, with fields such as title, full text, subject, and publication date.\n",
    "\n",
    "Furthermore, its relevance to current global issues like misinformation enhances the practical value of the project."
   ]
  },
  {
   "cell_type": "code",
   "execution_count": 2,
   "id": "4421319d",
   "metadata": {},
   "outputs": [
    {
     "data": {
      "text/html": [
       "<div>\n",
       "<style scoped>\n",
       "    .dataframe tbody tr th:only-of-type {\n",
       "        vertical-align: middle;\n",
       "    }\n",
       "\n",
       "    .dataframe tbody tr th {\n",
       "        vertical-align: top;\n",
       "    }\n",
       "\n",
       "    .dataframe thead th {\n",
       "        text-align: right;\n",
       "    }\n",
       "</style>\n",
       "<table border=\"1\" class=\"dataframe\">\n",
       "  <thead>\n",
       "    <tr style=\"text-align: right;\">\n",
       "      <th></th>\n",
       "      <th>title</th>\n",
       "      <th>text</th>\n",
       "      <th>subject</th>\n",
       "      <th>date</th>\n",
       "      <th>label</th>\n",
       "    </tr>\n",
       "  </thead>\n",
       "  <tbody>\n",
       "    <tr>\n",
       "      <th>0</th>\n",
       "      <td>Donald Trump Sends Out Embarrassing New Year’...</td>\n",
       "      <td>Donald Trump just couldn t wish all Americans ...</td>\n",
       "      <td>News</td>\n",
       "      <td>December 31, 2017</td>\n",
       "      <td>0</td>\n",
       "    </tr>\n",
       "    <tr>\n",
       "      <th>1</th>\n",
       "      <td>Drunk Bragging Trump Staffer Started Russian ...</td>\n",
       "      <td>House Intelligence Committee Chairman Devin Nu...</td>\n",
       "      <td>News</td>\n",
       "      <td>December 31, 2017</td>\n",
       "      <td>0</td>\n",
       "    </tr>\n",
       "    <tr>\n",
       "      <th>2</th>\n",
       "      <td>Sheriff David Clarke Becomes An Internet Joke...</td>\n",
       "      <td>On Friday, it was revealed that former Milwauk...</td>\n",
       "      <td>News</td>\n",
       "      <td>December 30, 2017</td>\n",
       "      <td>0</td>\n",
       "    </tr>\n",
       "    <tr>\n",
       "      <th>3</th>\n",
       "      <td>Trump Is So Obsessed He Even Has Obama’s Name...</td>\n",
       "      <td>On Christmas day, Donald Trump announced that ...</td>\n",
       "      <td>News</td>\n",
       "      <td>December 29, 2017</td>\n",
       "      <td>0</td>\n",
       "    </tr>\n",
       "    <tr>\n",
       "      <th>4</th>\n",
       "      <td>Pope Francis Just Called Out Donald Trump Dur...</td>\n",
       "      <td>Pope Francis used his annual Christmas Day mes...</td>\n",
       "      <td>News</td>\n",
       "      <td>December 25, 2017</td>\n",
       "      <td>0</td>\n",
       "    </tr>\n",
       "  </tbody>\n",
       "</table>\n",
       "</div>"
      ],
      "text/plain": [
       "                                               title  \\\n",
       "0   Donald Trump Sends Out Embarrassing New Year’...   \n",
       "1   Drunk Bragging Trump Staffer Started Russian ...   \n",
       "2   Sheriff David Clarke Becomes An Internet Joke...   \n",
       "3   Trump Is So Obsessed He Even Has Obama’s Name...   \n",
       "4   Pope Francis Just Called Out Donald Trump Dur...   \n",
       "\n",
       "                                                text subject  \\\n",
       "0  Donald Trump just couldn t wish all Americans ...    News   \n",
       "1  House Intelligence Committee Chairman Devin Nu...    News   \n",
       "2  On Friday, it was revealed that former Milwauk...    News   \n",
       "3  On Christmas day, Donald Trump announced that ...    News   \n",
       "4  Pope Francis used his annual Christmas Day mes...    News   \n",
       "\n",
       "                date  label  \n",
       "0  December 31, 2017      0  \n",
       "1  December 31, 2017      0  \n",
       "2  December 30, 2017      0  \n",
       "3  December 29, 2017      0  \n",
       "4  December 25, 2017      0  "
      ]
     },
     "execution_count": 2,
     "metadata": {},
     "output_type": "execute_result"
    }
   ],
   "source": [
    "import pandas as pd\n",
    "\n",
    "# Load fake and real datasets\n",
    "fake_df = pd.read_csv(\"../data/fake_news_dataset/Fake.csv\")\n",
    "real_df = pd.read_csv(\"../data/fake_news_dataset/True.csv\")\n",
    "\n",
    "# Add a 'label' column to each: 0 = fake, 1 = real\n",
    "fake_df[\"label\"] = 0\n",
    "real_df[\"label\"] = 1\n",
    "\n",
    "# Combine into one dataframe\n",
    "df = pd.concat([fake_df, real_df], ignore_index=True)\n",
    "\n",
    "# Show first 5 rows\n",
    "df.head()\n"
   ]
  },
  {
   "cell_type": "markdown",
   "id": "e12d822a",
   "metadata": {},
   "source": [
    "# 2. System Stage\n",
    "\n",
    "The dataset was downloaded from [Kaggle](https://www.kaggle.com/datasets/clmentbisaillon/fake-and-real-news-dataset). It consists of two CSV files:\n",
    "\n",
    "- `Fake.csv`: 23,502 fake news articles\n",
    "- `True.csv`: 21,417 real news articles\n",
    "\n",
    "Each file contains the following columns:\n",
    "- `title`: Title of the news article\n",
    "- `text`: Full body of the news article\n",
    "- `subject`: Category or topic of the article\n",
    "- `date`: Publish date\n",
    "- `label`: Added manually (0 = Fake, 1 = Real)\n",
    "\n",
    "**File System Information:**\n",
    "- `Format`: CSV (comma-separated values)\n",
    "- `Protocol`: HTTP download from Kaggle\n",
    "- `Versions`: One main version (no updates or revisions at the time of use)\n",
    "\n",
    "The files are stored locally under `data/fake_news_dataset/`.\n",
    "\n",
    "Version control is managed via Git and GitHub in this project repository.\n",
    "\n",
    "- `Repository`: [GitHub - cyber-data-pipeline](https://github.com/Basel6/Cyber-Data-Pipeline.git)\n"
   ]
  },
  {
   "cell_type": "code",
   "execution_count": 3,
   "id": "2c1331d6",
   "metadata": {},
   "outputs": [
    {
     "name": "stdout",
     "output_type": "stream",
     "text": [
      "Fake.csv size: 61318.23828125 KB\n",
      "True.csv size: 52327.08984375 KB\n"
     ]
    }
   ],
   "source": [
    "import os\n",
    "\n",
    "fake_path = \"../data/fake_news_dataset/Fake.csv\"\n",
    "real_path = \"../data/fake_news_dataset/True.csv\"\n",
    "\n",
    "print(\"Fake.csv size:\", os.path.getsize(fake_path) / 1024, \"KB\")\n",
    "print(\"True.csv size:\", os.path.getsize(real_path) / 1024, \"KB\")\n"
   ]
  },
  {
   "cell_type": "markdown",
   "id": "9b7dc56e",
   "metadata": {},
   "source": [
    "# 3. Metadata\n",
    "\n",
    "The dataset contains the following column types:\n",
    "- `title`, `text`, `subject`: Object (text)\n",
    "- `date`: Object (string format), will be parsed as datetime later\n",
    "- `label`: Integer (binary classification: 0 = Fake, 1 = Real)\n",
    "\n",
    "### Missing Values:\n",
    "No missing values were detected in any of the columns.\n",
    "\n",
    "### Special Values:\n",
    "There are no special placeholder values such as “unknown” or “-999” in any of the columns. The dataset appears to be clean.\n",
    "\n",
    "### Unique Values:\n",
    "- `subject`: 8 unique categories\n",
    "- `label`: 2 values (0 = Fake, 1 = Real)\n",
    "\n",
    "and here we validate our information:"
   ]
  },
  {
   "cell_type": "code",
   "execution_count": 9,
   "id": "f68ce667",
   "metadata": {},
   "outputs": [
    {
     "data": {
      "text/plain": [
       "title      object\n",
       "text       object\n",
       "subject    object\n",
       "date       object\n",
       "label       int64\n",
       "dtype: object"
      ]
     },
     "execution_count": 9,
     "metadata": {},
     "output_type": "execute_result"
    }
   ],
   "source": [
    "# first we show data types of each column\n",
    "df.dtypes"
   ]
  },
  {
   "cell_type": "code",
   "execution_count": 10,
   "id": "01ca3073",
   "metadata": {},
   "outputs": [
    {
     "data": {
      "text/plain": [
       "title      0\n",
       "text       0\n",
       "subject    0\n",
       "date       0\n",
       "label      0\n",
       "dtype: int64"
      ]
     },
     "execution_count": 10,
     "metadata": {},
     "output_type": "execute_result"
    }
   ],
   "source": [
    "# # then we check for missing values\n",
    "df.isnull().sum()"
   ]
  },
  {
   "cell_type": "code",
   "execution_count": null,
   "id": "2c56b6b1",
   "metadata": {},
   "outputs": [
    {
     "name": "stdout",
     "output_type": "stream",
     "text": [
      "\n",
      "Column: title\n",
      "[' Donald Trump Sends Out Embarrassing New Year’s Eve Message; This is Disturbing'\n",
      " ' Drunk Bragging Trump Staffer Started Russian Collusion Investigation'\n",
      " ' Sheriff David Clarke Becomes An Internet Joke For Threatening To Poke People ‘In The Eye’']\n",
      "\n",
      "Column: text\n",
      "['Donald Trump just couldn t wish all Americans a Happy New Year and leave it at that. Instead, he had to give a shout out to his enemies, haters and  the very dishonest fake news media.  The former reality show star had just one job to do and he couldn t do it. As our Country rapidly grows stronger and smarter, I want to wish all of my friends, supporters, enemies, haters, and even the very dishonest Fake News Media, a Happy and Healthy New Year,  President Angry Pants tweeted.  2018 will be a great year for America! As our Country rapidly grows stronger and smarter, I want to wish all of my friends, supporters, enemies, haters, and even the very dishonest Fake News Media, a Happy and Healthy New Year. 2018 will be a great year for America!  Donald J. Trump (@realDonaldTrump) December 31, 2017Trump s tweet went down about as welll as you d expect.What kind of president sends a New Year s greeting like this despicable, petty, infantile gibberish? Only Trump! His lack of decency won t even allow him to rise above the gutter long enough to wish the American citizens a happy new year!  Bishop Talbert Swan (@TalbertSwan) December 31, 2017no one likes you  Calvin (@calvinstowell) December 31, 2017Your impeachment would make 2018 a great year for America, but I ll also accept regaining control of Congress.  Miranda Yaver (@mirandayaver) December 31, 2017Do you hear yourself talk? When you have to include that many people that hate you you have to wonder? Why do the they all hate me?  Alan Sandoval (@AlanSandoval13) December 31, 2017Who uses the word Haters in a New Years wish??  Marlene (@marlene399) December 31, 2017You can t just say happy new year?  Koren pollitt (@Korencarpenter) December 31, 2017Here s Trump s New Year s Eve tweet from 2016.Happy New Year to all, including to my many enemies and those who have fought me and lost so badly they just don t know what to do. Love!  Donald J. Trump (@realDonaldTrump) December 31, 2016This is nothing new for Trump. He s been doing this for years.Trump has directed messages to his  enemies  and  haters  for New Year s, Easter, Thanksgiving, and the anniversary of 9/11. pic.twitter.com/4FPAe2KypA  Daniel Dale (@ddale8) December 31, 2017Trump s holiday tweets are clearly not presidential.How long did he work at Hallmark before becoming President?  Steven Goodine (@SGoodine) December 31, 2017He s always been like this . . . the only difference is that in the last few years, his filter has been breaking down.  Roy Schulze (@thbthttt) December 31, 2017Who, apart from a teenager uses the term haters?  Wendy (@WendyWhistles) December 31, 2017he s a fucking 5 year old  Who Knows (@rainyday80) December 31, 2017So, to all the people who voted for this a hole thinking he would change once he got into power, you were wrong! 70-year-old men don t change and now he s a year older.Photo by Andrew Burton/Getty Images.'\n",
      " 'House Intelligence Committee Chairman Devin Nunes is going to have a bad day. He s been under the assumption, like many of us, that the Christopher Steele-dossier was what prompted the Russia investigation so he s been lashing out at the Department of Justice and the FBI in order to protect Trump. As it happens, the dossier is not what started the investigation, according to documents obtained by the New York Times.Former Trump campaign adviser George Papadopoulos was drunk in a wine bar when he revealed knowledge of Russian opposition research on Hillary Clinton.On top of that, Papadopoulos wasn t just a covfefe boy for Trump, as his administration has alleged. He had a much larger role, but none so damning as being a drunken fool in a wine bar. Coffee boys  don t help to arrange a New York meeting between Trump and President Abdel Fattah el-Sisi of Egypt two months before the election. It was known before that the former aide set up meetings with world leaders for Trump, but team Trump ran with him being merely a coffee boy.In May 2016, Papadopoulos revealed to Australian diplomat Alexander Downer that Russian officials were shopping around possible dirt on then-Democratic presidential nominee Hillary Clinton. Exactly how much Mr. Papadopoulos said that night at the Kensington Wine Rooms with the Australian, Alexander Downer, is unclear,  the report states.  But two months later, when leaked Democratic emails began appearing online, Australian officials passed the information about Mr. Papadopoulos to their American counterparts, according to four current and former American and foreign officials with direct knowledge of the Australians  role. Papadopoulos pleaded guilty to lying to the F.B.I. and is now a cooperating witness with Special Counsel Robert Mueller s team.This isn t a presidency. It s a badly scripted reality TV show.Photo by Win McNamee/Getty Images.'\n",
      " 'On Friday, it was revealed that former Milwaukee Sheriff David Clarke, who was being considered for Homeland Security Secretary in Donald Trump s administration, has an email scandal of his own.In January, there was a brief run-in on a plane between Clarke and fellow passenger Dan Black, who he later had detained by the police for no reason whatsoever, except that maybe his feelings were hurt. Clarke messaged the police to stop Black after he deplaned, and now, a search warrant has been executed by the FBI to see the exchanges.Clarke is calling it fake news even though copies of the search warrant are on the Internet. I am UNINTIMIDATED by lib media attempts to smear and discredit me with their FAKE NEWS reports designed to silence me,  the former sheriff tweeted.  I will continue to poke them in the eye with a sharp stick and bitch slap these scum bags til they get it. I have been attacked by better people than them #MAGA I am UNINTIMIDATED by lib media attempts to smear and discredit me with their FAKE NEWS reports designed to silence me. I will continue to poke them in the eye with a sharp stick and bitch slap these scum bags til they get it. I have been attacked by better people than them #MAGA pic.twitter.com/XtZW5PdU2b  David A. Clarke, Jr. (@SheriffClarke) December 30, 2017He didn t stop there.BREAKING NEWS! When LYING LIB MEDIA makes up FAKE NEWS to smear me, the ANTIDOTE is go right at them. Punch them in the nose & MAKE THEM TASTE THEIR OWN BLOOD. Nothing gets a bully like LYING LIB MEDIA S attention better than to give them a taste of their own blood #neverbackdown pic.twitter.com/T2NY2psHCR  David A. Clarke, Jr. (@SheriffClarke) December 30, 2017The internet called him out.This is your local newspaper and that search warrant isn t fake, and just because the chose not to file charges at the time doesn t mean they won t! Especially if you continue to lie. Months after decision not to charge Clarke, email search warrant filed https://t.co/zcbyc4Wp5b  KeithLeBlanc (@KeithLeBlanc63) December 30, 2017I just hope the rest of the Village People aren t implicated.  Kirk Ketchum (@kirkketchum) December 30, 2017Slaw, baked potatoes, or French fries? pic.twitter.com/fWfXsZupxy  ALT- Immigration   (@ALT_uscis) December 30, 2017pic.twitter.com/ymsOBLjfxU  Pendulum Swinger (@PendulumSwngr) December 30, 2017you called your police friends to stand up for you when someone made fun of your hat  Chris Jackson (@ChrisCJackson) December 30, 2017Is it me, with this masterful pshop of your hat, which I seem to never tire of. I think it s the steely resolve in your one visible eye pic.twitter.com/dWr5k8ZEZV  Chris Mohney (@chrismohney) December 30, 2017Are you indicating with your fingers how many people died in your jail? I think you re a few fingers short, dipshit  Ike Barinholtz (@ikebarinholtz) December 30, 2017ROFL. Internet tough guy with fake flair. pic.twitter.com/ulCFddhkdy  KellMeCrazy (@Kel_MoonFace) December 30, 2017You re so edgy, buddy.  Mrs. SMH (@MRSSMH2) December 30, 2017Is his break over at Applebees?  Aaron (@feltrrr2) December 30, 2017Are you trying to earn your  still relevant  badge?  CircusRebel (@CircusDrew) December 30, 2017make sure to hydrate, drink lots of water. It s rumored that prisoners can be denied water by prison officials.  Robert Klinc (@RobertKlinc1) December 30, 2017Terrill Thomas, the 38-year-old black man who died of thirst in Clarke s Milwaukee County Jail cell this April, was a victim of homicide. We just thought we should point that out. It can t be repeated enough.Photo by Spencer Platt/Getty Images.']\n",
      "\n",
      "Column: subject\n",
      "['News' 'politics' 'Government News']\n",
      "\n",
      "Column: date\n",
      "['December 31, 2017' 'December 30, 2017' 'December 29, 2017']\n",
      "\n",
      "Column: label\n",
      "[0 1]\n"
     ]
    },
    {
     "data": {
      "text/plain": [
       "title      38729\n",
       "text       38646\n",
       "subject        8\n",
       "date        2397\n",
       "label          2\n",
       "dtype: int64"
      ]
     },
     "execution_count": 14,
     "metadata": {},
     "output_type": "execute_result"
    }
   ],
   "source": [
    "\n",
    "# # Show unique values in each column (to detect special placeholders)\n",
    "for col in df.columns:\n",
    "    print(f\"\\nColumn: {col}\")\n",
    "    print(df[col].unique()[:3])  # show up to 3 examples (not more because of large text fields will be a mess in the notebook :P)\n",
    "\n",
    "# # and finally we show how many unique values each column has\n",
    "df.nunique()"
   ]
  },
  {
   "cell_type": "markdown",
   "id": "4f2bb3e1",
   "metadata": {},
   "source": [
    "# 4. Statistics\n",
    "\n",
    "#### Lets first show the basic statistics:"
   ]
  },
  {
   "cell_type": "code",
   "execution_count": 15,
   "id": "7c003a30",
   "metadata": {},
   "outputs": [
    {
     "data": {
      "text/html": [
       "<div>\n",
       "<style scoped>\n",
       "    .dataframe tbody tr th:only-of-type {\n",
       "        vertical-align: middle;\n",
       "    }\n",
       "\n",
       "    .dataframe tbody tr th {\n",
       "        vertical-align: top;\n",
       "    }\n",
       "\n",
       "    .dataframe thead th {\n",
       "        text-align: right;\n",
       "    }\n",
       "</style>\n",
       "<table border=\"1\" class=\"dataframe\">\n",
       "  <thead>\n",
       "    <tr style=\"text-align: right;\">\n",
       "      <th></th>\n",
       "      <th>title</th>\n",
       "      <th>text</th>\n",
       "      <th>subject</th>\n",
       "      <th>date</th>\n",
       "      <th>label</th>\n",
       "    </tr>\n",
       "  </thead>\n",
       "  <tbody>\n",
       "    <tr>\n",
       "      <th>count</th>\n",
       "      <td>44898</td>\n",
       "      <td>44898</td>\n",
       "      <td>44898</td>\n",
       "      <td>44898</td>\n",
       "      <td>44898.000000</td>\n",
       "    </tr>\n",
       "    <tr>\n",
       "      <th>unique</th>\n",
       "      <td>38729</td>\n",
       "      <td>38646</td>\n",
       "      <td>8</td>\n",
       "      <td>2397</td>\n",
       "      <td>NaN</td>\n",
       "    </tr>\n",
       "    <tr>\n",
       "      <th>top</th>\n",
       "      <td>Factbox: Trump fills top jobs for his administ...</td>\n",
       "      <td></td>\n",
       "      <td>politicsNews</td>\n",
       "      <td>December 20, 2017</td>\n",
       "      <td>NaN</td>\n",
       "    </tr>\n",
       "    <tr>\n",
       "      <th>freq</th>\n",
       "      <td>14</td>\n",
       "      <td>627</td>\n",
       "      <td>11272</td>\n",
       "      <td>182</td>\n",
       "      <td>NaN</td>\n",
       "    </tr>\n",
       "    <tr>\n",
       "      <th>mean</th>\n",
       "      <td>NaN</td>\n",
       "      <td>NaN</td>\n",
       "      <td>NaN</td>\n",
       "      <td>NaN</td>\n",
       "      <td>0.477015</td>\n",
       "    </tr>\n",
       "    <tr>\n",
       "      <th>std</th>\n",
       "      <td>NaN</td>\n",
       "      <td>NaN</td>\n",
       "      <td>NaN</td>\n",
       "      <td>NaN</td>\n",
       "      <td>0.499477</td>\n",
       "    </tr>\n",
       "    <tr>\n",
       "      <th>min</th>\n",
       "      <td>NaN</td>\n",
       "      <td>NaN</td>\n",
       "      <td>NaN</td>\n",
       "      <td>NaN</td>\n",
       "      <td>0.000000</td>\n",
       "    </tr>\n",
       "    <tr>\n",
       "      <th>25%</th>\n",
       "      <td>NaN</td>\n",
       "      <td>NaN</td>\n",
       "      <td>NaN</td>\n",
       "      <td>NaN</td>\n",
       "      <td>0.000000</td>\n",
       "    </tr>\n",
       "    <tr>\n",
       "      <th>50%</th>\n",
       "      <td>NaN</td>\n",
       "      <td>NaN</td>\n",
       "      <td>NaN</td>\n",
       "      <td>NaN</td>\n",
       "      <td>0.000000</td>\n",
       "    </tr>\n",
       "    <tr>\n",
       "      <th>75%</th>\n",
       "      <td>NaN</td>\n",
       "      <td>NaN</td>\n",
       "      <td>NaN</td>\n",
       "      <td>NaN</td>\n",
       "      <td>1.000000</td>\n",
       "    </tr>\n",
       "    <tr>\n",
       "      <th>max</th>\n",
       "      <td>NaN</td>\n",
       "      <td>NaN</td>\n",
       "      <td>NaN</td>\n",
       "      <td>NaN</td>\n",
       "      <td>1.000000</td>\n",
       "    </tr>\n",
       "  </tbody>\n",
       "</table>\n",
       "</div>"
      ],
      "text/plain": [
       "                                                    title   text  \\\n",
       "count                                               44898  44898   \n",
       "unique                                              38729  38646   \n",
       "top     Factbox: Trump fills top jobs for his administ...          \n",
       "freq                                                   14    627   \n",
       "mean                                                  NaN    NaN   \n",
       "std                                                   NaN    NaN   \n",
       "min                                                   NaN    NaN   \n",
       "25%                                                   NaN    NaN   \n",
       "50%                                                   NaN    NaN   \n",
       "75%                                                   NaN    NaN   \n",
       "max                                                   NaN    NaN   \n",
       "\n",
       "             subject                date         label  \n",
       "count          44898               44898  44898.000000  \n",
       "unique             8                2397           NaN  \n",
       "top     politicsNews  December 20, 2017            NaN  \n",
       "freq           11272                 182           NaN  \n",
       "mean             NaN                 NaN      0.477015  \n",
       "std              NaN                 NaN      0.499477  \n",
       "min              NaN                 NaN      0.000000  \n",
       "25%              NaN                 NaN      0.000000  \n",
       "50%              NaN                 NaN      0.000000  \n",
       "75%              NaN                 NaN      1.000000  \n",
       "max              NaN                 NaN      1.000000  "
      ]
     },
     "execution_count": 15,
     "metadata": {},
     "output_type": "execute_result"
    }
   ],
   "source": [
    "df.describe(include='all')"
   ]
  },
  {
   "cell_type": "markdown",
   "id": "b39cbf3a",
   "metadata": {},
   "source": [
    "#### Now we show real vs. fake articles"
   ]
  },
  {
   "cell_type": "code",
   "execution_count": 16,
   "id": "7df7569a",
   "metadata": {},
   "outputs": [
    {
     "data": {
      "text/plain": [
       "label\n",
       "0    23481\n",
       "1    21417\n",
       "Name: count, dtype: int64"
      ]
     },
     "execution_count": 16,
     "metadata": {},
     "output_type": "execute_result"
    }
   ],
   "source": [
    "df['label'].value_counts()"
   ]
  },
  {
   "cell_type": "markdown",
   "id": "733721ae",
   "metadata": {},
   "source": [
    "#### Distribution of the topis/subjects:"
   ]
  },
  {
   "cell_type": "code",
   "execution_count": 17,
   "id": "419fcbb6",
   "metadata": {},
   "outputs": [
    {
     "data": {
      "text/plain": [
       "subject\n",
       "politicsNews       11272\n",
       "worldnews          10145\n",
       "News                9050\n",
       "politics            6841\n",
       "left-news           4459\n",
       "Government News     1570\n",
       "US_News              783\n",
       "Middle-east          778\n",
       "Name: count, dtype: int64"
      ]
     },
     "execution_count": 17,
     "metadata": {},
     "output_type": "execute_result"
    }
   ],
   "source": [
    "df['subject'].value_counts()"
   ]
  },
  {
   "cell_type": "markdown",
   "id": "5ed3321f",
   "metadata": {},
   "source": [
    "#### Duplicates:"
   ]
  },
  {
   "cell_type": "code",
   "execution_count": 18,
   "id": "5735ca52",
   "metadata": {},
   "outputs": [
    {
     "data": {
      "text/plain": [
       "np.int64(6169)"
      ]
     },
     "execution_count": 18,
     "metadata": {},
     "output_type": "execute_result"
    }
   ],
   "source": [
    "df['title'].duplicated().sum()"
   ]
  },
  {
   "cell_type": "markdown",
   "id": "427594f2",
   "metadata": {},
   "source": [
    "#### Plots for Text lengths & distribution\n",
    "> here we add a new column with text length"
   ]
  },
  {
   "cell_type": "code",
   "execution_count": 35,
   "id": "d21bfc69",
   "metadata": {},
   "outputs": [
    {
     "data": {
      "image/png": "[encoded data removed]",
      "text/plain": [
       "<Figure size 1000x500 with 1 Axes>"
      ]
     },
     "metadata": {},
     "output_type": "display_data"
    }
   ],
   "source": [
    "import matplotlib.pyplot as plt\n",
    "\n",
    "# Add a new column with text length\n",
    "# Compute length after stripping whitespace (because it made problems later on)\n",
    "df['text_length'] = df['text'].apply(lambda x: len(str(x).strip()))\n",
    "\n",
    "# Plot distribution of text lengths\n",
    "plt.figure(figsize=(10,5))\n",
    "plt.hist(df['text_length'], bins=100, color='skyblue')\n",
    "plt.title(\"Distribution of Article Text Lengths\")\n",
    "plt.xlabel(\"Text Length\")\n",
    "plt.ylabel(\"Frequency\")\n",
    "plt.grid(True)\n",
    "plt.show()\n"
   ]
  },
  {
   "cell_type": "markdown",
   "id": "6ddef16b",
   "metadata": {},
   "source": [
    "#### Correlation Matrix"
   ]
  },
  {
   "cell_type": "code",
   "execution_count": 36,
   "id": "4db786e1",
   "metadata": {},
   "outputs": [
    {
     "data": {
      "text/html": [
       "<div>\n",
       "<style scoped>\n",
       "    .dataframe tbody tr th:only-of-type {\n",
       "        vertical-align: middle;\n",
       "    }\n",
       "\n",
       "    .dataframe tbody tr th {\n",
       "        vertical-align: top;\n",
       "    }\n",
       "\n",
       "    .dataframe thead th {\n",
       "        text-align: right;\n",
       "    }\n",
       "</style>\n",
       "<table border=\"1\" class=\"dataframe\">\n",
       "  <thead>\n",
       "    <tr style=\"text-align: right;\">\n",
       "      <th></th>\n",
       "      <th>text_length</th>\n",
       "      <th>label</th>\n",
       "    </tr>\n",
       "  </thead>\n",
       "  <tbody>\n",
       "    <tr>\n",
       "      <th>text_length</th>\n",
       "      <td>1.000000</td>\n",
       "      <td>-0.038002</td>\n",
       "    </tr>\n",
       "    <tr>\n",
       "      <th>label</th>\n",
       "      <td>-0.038002</td>\n",
       "      <td>1.000000</td>\n",
       "    </tr>\n",
       "  </tbody>\n",
       "</table>\n",
       "</div>"
      ],
      "text/plain": [
       "             text_length     label\n",
       "text_length     1.000000 -0.038002\n",
       "label          -0.038002  1.000000"
      ]
     },
     "execution_count": 36,
     "metadata": {},
     "output_type": "execute_result"
    }
   ],
   "source": [
    "df[['text_length', 'label']].corr()\n"
   ]
  },
  {
   "cell_type": "markdown",
   "id": "91b28d6f",
   "metadata": {},
   "source": [
    "\n",
    "The dataset contains 44,919 news articles, split between fake and real. Here's what we found:\n",
    "\n",
    "- The dataset has a fairly balanced distribution: approx. 23.5K fake and 21.4K real.\n",
    "- There are 8 unique subjects (topics) in the data.\n",
    "- A small number of duplicate titles exist, but most are unique.\n",
    "- The average article text length varies significantly, as shown in the histogram.\n",
    "- A new column `text_length` was created for analysis.\n",
    "- Correlation between text length and label is weak (~0.03), as expected.\n",
    "\n",
    "At this stage, **dimensionality reduction is not applied** yet because we are dealing with unprocessed text. Once we vectorize the text, techniques like PCA or t-SNE may be revisited for analysis or visualization.\n"
   ]
  },
  {
   "cell_type": "markdown",
   "id": "2dd7f9f6",
   "metadata": {},
   "source": [
    "# 5. Abnormality Detection\n",
    "\n",
    "## Single-feature Detection\n",
    "> here we check for empty, unusually short or long articles:\n"
   ]
  },
  {
   "cell_type": "code",
   "execution_count": 39,
   "id": "c2526960",
   "metadata": {},
   "outputs": [
    {
     "name": "stdout",
     "output_type": "stream",
     "text": [
      "Completely empty articles (text_length == 0): 631\n"
     ]
    },
    {
     "data": {
      "text/html": [
       "<div>\n",
       "<style scoped>\n",
       "    .dataframe tbody tr th:only-of-type {\n",
       "        vertical-align: middle;\n",
       "    }\n",
       "\n",
       "    .dataframe tbody tr th {\n",
       "        vertical-align: top;\n",
       "    }\n",
       "\n",
       "    .dataframe thead th {\n",
       "        text-align: right;\n",
       "    }\n",
       "</style>\n",
       "<table border=\"1\" class=\"dataframe\">\n",
       "  <thead>\n",
       "    <tr style=\"text-align: right;\">\n",
       "      <th></th>\n",
       "      <th>title</th>\n",
       "      <th>text</th>\n",
       "      <th>text_length</th>\n",
       "    </tr>\n",
       "  </thead>\n",
       "  <tbody>\n",
       "    <tr>\n",
       "      <th>10923</th>\n",
       "      <td>TAKE OUR POLL: Who Do You Think President Trum...</td>\n",
       "      <td></td>\n",
       "      <td>0</td>\n",
       "    </tr>\n",
       "    <tr>\n",
       "      <th>11041</th>\n",
       "      <td>Joe Scarborough BERATES Mika Brzezinski Over “...</td>\n",
       "      <td></td>\n",
       "      <td>0</td>\n",
       "    </tr>\n",
       "    <tr>\n",
       "      <th>11190</th>\n",
       "      <td>WATCH TUCKER CARLSON Scorch Sanctuary City May...</td>\n",
       "      <td></td>\n",
       "      <td>0</td>\n",
       "    </tr>\n",
       "  </tbody>\n",
       "</table>\n",
       "</div>"
      ],
      "text/plain": [
       "                                                   title text  text_length\n",
       "10923  TAKE OUR POLL: Who Do You Think President Trum...                 0\n",
       "11041  Joe Scarborough BERATES Mika Brzezinski Over “...                 0\n",
       "11190  WATCH TUCKER CARLSON Scorch Sanctuary City May...                 0"
      ]
     },
     "metadata": {},
     "output_type": "display_data"
    },
    {
     "name": "stdout",
     "output_type": "stream",
     "text": [
      "\n",
      "Very short articles (1 <= text_length < 30): 69\n"
     ]
    },
    {
     "data": {
      "text/html": [
       "<div>\n",
       "<style scoped>\n",
       "    .dataframe tbody tr th:only-of-type {\n",
       "        vertical-align: middle;\n",
       "    }\n",
       "\n",
       "    .dataframe tbody tr th {\n",
       "        vertical-align: top;\n",
       "    }\n",
       "\n",
       "    .dataframe thead th {\n",
       "        text-align: right;\n",
       "    }\n",
       "</style>\n",
       "<table border=\"1\" class=\"dataframe\">\n",
       "  <thead>\n",
       "    <tr style=\"text-align: right;\">\n",
       "      <th></th>\n",
       "      <th>title</th>\n",
       "      <th>text</th>\n",
       "      <th>text_length</th>\n",
       "    </tr>\n",
       "  </thead>\n",
       "  <tbody>\n",
       "    <tr>\n",
       "      <th>11117</th>\n",
       "      <td>MY FAVORITE EXCUSES…Featuring Hillary Rotten C...</td>\n",
       "      <td>Enjoy:</td>\n",
       "      <td>6</td>\n",
       "    </tr>\n",
       "    <tr>\n",
       "      <th>11324</th>\n",
       "      <td>HYSTERICAL! HERE’S WHY TRUMP SAID TO REPORTER:...</td>\n",
       "      <td>Read more:WT</td>\n",
       "      <td>12</td>\n",
       "    </tr>\n",
       "    <tr>\n",
       "      <th>11425</th>\n",
       "      <td>LIBERAL SNOWFLAKE Ambushes Sean Spicer in Appl...</td>\n",
       "      <td>Read more: Daily Mail</td>\n",
       "      <td>21</td>\n",
       "    </tr>\n",
       "  </tbody>\n",
       "</table>\n",
       "</div>"
      ],
      "text/plain": [
       "                                                   title  \\\n",
       "11117  MY FAVORITE EXCUSES…Featuring Hillary Rotten C...   \n",
       "11324  HYSTERICAL! HERE’S WHY TRUMP SAID TO REPORTER:...   \n",
       "11425  LIBERAL SNOWFLAKE Ambushes Sean Spicer in Appl...   \n",
       "\n",
       "                        text  text_length  \n",
       "11117                 Enjoy:            6  \n",
       "11324           Read more:WT           12  \n",
       "11425  Read more: Daily Mail           21  "
      ]
     },
     "metadata": {},
     "output_type": "display_data"
    },
    {
     "name": "stdout",
     "output_type": "stream",
     "text": [
      "\n",
      "Unusually long articles (text_length > 8983): 495\n"
     ]
    },
    {
     "data": {
      "text/html": [
       "<div>\n",
       "<style scoped>\n",
       "    .dataframe tbody tr th:only-of-type {\n",
       "        vertical-align: middle;\n",
       "    }\n",
       "\n",
       "    .dataframe tbody tr th {\n",
       "        vertical-align: top;\n",
       "    }\n",
       "\n",
       "    .dataframe thead th {\n",
       "        text-align: right;\n",
       "    }\n",
       "</style>\n",
       "<table border=\"1\" class=\"dataframe\">\n",
       "  <thead>\n",
       "    <tr style=\"text-align: right;\">\n",
       "      <th></th>\n",
       "      <th>title</th>\n",
       "      <th>text</th>\n",
       "      <th>text_length</th>\n",
       "    </tr>\n",
       "  </thead>\n",
       "  <tbody>\n",
       "    <tr>\n",
       "      <th>2639</th>\n",
       "      <td>Trump’s List Of ‘Unreported Terror Attacks’ A...</td>\n",
       "      <td>In another of Donald Trump s whine rests, the ...</td>\n",
       "      <td>13095</td>\n",
       "    </tr>\n",
       "    <tr>\n",
       "      <th>4147</th>\n",
       "      <td>Here’s The Master List Of Reasons Why Trump W...</td>\n",
       "      <td>We know Trump is a sexual predator. We know he...</td>\n",
       "      <td>15211</td>\n",
       "    </tr>\n",
       "    <tr>\n",
       "      <th>4475</th>\n",
       "      <td>Here You Go: Every Bat Sh*t Crazy Thing That ...</td>\n",
       "      <td>Donald Trump spent Monday night making a total...</td>\n",
       "      <td>20264</td>\n",
       "    </tr>\n",
       "  </tbody>\n",
       "</table>\n",
       "</div>"
      ],
      "text/plain": [
       "                                                  title  \\\n",
       "2639   Trump’s List Of ‘Unreported Terror Attacks’ A...   \n",
       "4147   Here’s The Master List Of Reasons Why Trump W...   \n",
       "4475   Here You Go: Every Bat Sh*t Crazy Thing That ...   \n",
       "\n",
       "                                                   text  text_length  \n",
       "2639  In another of Donald Trump s whine rests, the ...        13095  \n",
       "4147  We know Trump is a sexual predator. We know he...        15211  \n",
       "4475  Donald Trump spent Monday night making a total...        20264  "
      ]
     },
     "metadata": {},
     "output_type": "display_data"
    }
   ],
   "source": [
    "import numpy as np\n",
    "\n",
    "# Outlier thresholds\n",
    "mean_length = df['text_length'].mean()\n",
    "std_length = df['text_length'].std()\n",
    "outlier_threshold_high = mean_length + 3 * std_length\n",
    "\n",
    "# Find empty, very short, and unusually long articles\n",
    "empty_texts = df[df['text_length'] == 0]\n",
    "very_short_texts = df[(df['text_length'] > 0) & (df['text_length'] < 30)]\n",
    "outliers_high = df[df['text_length'] > outlier_threshold_high]\n",
    "\n",
    "# Print counts and show examples\n",
    "print(f\"Completely empty articles (text_length == 0): {len(empty_texts)}\")\n",
    "if len(empty_texts) > 0:\n",
    "    display(empty_texts[['title', 'text', 'text_length']].head(3))\n",
    "\n",
    "print(f\"\\nVery short articles (1 <= text_length < 30): {len(very_short_texts)}\")\n",
    "if len(very_short_texts) > 0:\n",
    "    display(very_short_texts[['title', 'text', 'text_length']].head(3))\n",
    "\n",
    "print(f\"\\nUnusually long articles (text_length > {outlier_threshold_high:.0f}): {len(outliers_high)}\")\n",
    "if len(outliers_high) > 0:\n",
    "    display(outliers_high[['title', 'text', 'text_length']].head(3))\n"
   ]
  },
  {
   "cell_type": "markdown",
   "id": "6b63cc25",
   "metadata": {},
   "source": [
    "## Multi-Feature Outlier Detection"
   ]
  },
  {
   "cell_type": "code",
   "execution_count": 40,
   "id": "4dbe6c4a",
   "metadata": {},
   "outputs": [
    {
     "data": {
      "image/png": "[encoded data removed]",
      "text/plain": [
       "<Figure size 1200x600 with 1 Axes>"
      ]
     },
     "metadata": {},
     "output_type": "display_data"
    }
   ],
   "source": [
    "import matplotlib.pyplot as plt\n",
    "import seaborn as sns\n",
    "\n",
    "plt.figure(figsize=(12, 6))\n",
    "sns.boxplot(x='subject', y='text_length', data=df)\n",
    "plt.title(\"Text Length Distribution by Subject\")\n",
    "plt.xlabel(\"Subject\")\n",
    "plt.ylabel(\"Text Length\")\n",
    "plt.xticks(rotation=45)\n",
    "plt.show()\n"
   ]
  },
  {
   "cell_type": "code",
   "execution_count": 45,
   "id": "e5b3f497",
   "metadata": {},
   "outputs": [
    {
     "name": "stdout",
     "output_type": "stream",
     "text": [
      "Completely empty articles by subject:\n",
      "subject\n",
      "politics           408\n",
      "left-news          150\n",
      "Government News     72\n",
      "politicsNews         1\n",
      "dtype: int64\n"
     ]
    }
   ],
   "source": [
    "# Completely empty articles (text_length == 0)\n",
    "empty_by_subject = df[df['text_length'] == 0].groupby('subject').size().sort_values(ascending=False)\n",
    "print(\"Completely empty articles by subject:\")\n",
    "print(empty_by_subject)\n"
   ]
  },
  {
   "cell_type": "code",
   "execution_count": 47,
   "id": "7efee6af",
   "metadata": {},
   "outputs": [
    {
     "data": {
      "image/png": "[encoded data removed]",
      "text/plain": [
       "<Figure size 640x480 with 1 Axes>"
      ]
     },
     "metadata": {},
     "output_type": "display_data"
    }
   ],
   "source": [
    "# Bar plot: Completely empty articles by subject\n",
    "empty_by_subject.plot(kind='bar', color='skyblue', title='Completely Empty Articles by Subject')\n",
    "plt.ylabel('Count')\n",
    "plt.show()\n"
   ]
  },
  {
   "cell_type": "code",
   "execution_count": 46,
   "id": "761dc208",
   "metadata": {},
   "outputs": [
    {
     "name": "stdout",
     "output_type": "stream",
     "text": [
      "Very short (but not empty) articles by subject:\n",
      "subject\n",
      "politics           45\n",
      "left-news          20\n",
      "Government News     4\n",
      "dtype: int64\n"
     ]
    }
   ],
   "source": [
    "# Very short but not empty (0 < text_length < 30)\n",
    "very_short_by_subject = df[(df['text_length'] > 0) & (df['text_length'] < 30)].groupby('subject').size().sort_values(ascending=False)\n",
    "print(\"Very short (but not empty) articles by subject:\")\n",
    "print(very_short_by_subject)\n"
   ]
  },
  {
   "cell_type": "code",
   "execution_count": 48,
   "id": "4f610458",
   "metadata": {},
   "outputs": [
    {
     "data": {
      "image/png": "[encoded data removed]",
      "text/plain": [
       "<Figure size 640x480 with 1 Axes>"
      ]
     },
     "metadata": {},
     "output_type": "display_data"
    }
   ],
   "source": [
    "# Bar plot: Very short articles by subject\n",
    "very_short_by_subject.plot(kind='bar', color='orange', title='Very Short Articles by Subject')\n",
    "plt.ylabel('Count')\n",
    "plt.show()\n"
   ]
  },
  {
   "cell_type": "code",
   "execution_count": 43,
   "id": "f73a7b6d",
   "metadata": {},
   "outputs": [
    {
     "name": "stdout",
     "output_type": "stream",
     "text": [
      "subject\n",
      "US_News            121\n",
      "Middle-east        119\n",
      "politics           104\n",
      "left-news           69\n",
      "politicsNews        33\n",
      "Government News     30\n",
      "worldnews           10\n",
      "News                 9\n",
      "dtype: int64\n"
     ]
    }
   ],
   "source": [
    "# For each subject, count unusually long articles\n",
    "long_by_subject = df[df['text_length'] > outlier_threshold_high].groupby('subject').size().sort_values(ascending=False)\n",
    "print(long_by_subject)\n"
   ]
  },
  {
   "cell_type": "code",
   "execution_count": 49,
   "id": "b0f687df",
   "metadata": {},
   "outputs": [
    {
     "data": {
      "image/png": "[encoded data removed]",
      "text/plain": [
       "<Figure size 640x480 with 1 Axes>"
      ]
     },
     "metadata": {},
     "output_type": "display_data"
    }
   ],
   "source": [
    "long_by_subject.plot(kind='bar', color='green', title='Unusually Long Articles by Subject')\n",
    "plt.ylabel('Count')\n",
    "plt.show()\n"
   ]
  },
  {
   "cell_type": "markdown",
   "id": "8d46229f",
   "metadata": {},
   "source": [
    "In this step, we analyzed the dataset for abnormal (outlier) articles, both by single features and by combining features.\n",
    "\n",
    "### Single-Feature Outliers\n",
    "- **Completely empty articles (`text_length == 0`):** 631 entries found, with the vast majority in the \"politics\" subject.\n",
    "- **Very short but not empty articles (`0 < text_length < 30`):** 69 entries, again concentrated in \"politics\" and \"left-news\".\n",
    "- **Unusually long articles (`text_length > 8983`):** 495 articles, spread across all subjects but most common in \"US_News\" and \"Middle-east\".\n",
    "\n",
    "### Multi-Feature Outliers\n",
    "- Using boxplots and counts, we examined text length across subjects.\n",
    "- **Empty and short articles are heavily concentrated in \"politics\"**, indicating a subject-specific data quality issue.\n",
    "- **Unusually long articles** are distributed across all subjects, especially in \"US_News\" and \"Middle-east\", which is natural for in-depth news reporting.\n",
    "- No subject was found to be dominated by extreme outliers alone, aside from the empty/short articles in \"politics\".\n",
    "\n",
    "### Domain Explanation\n",
    "- **Empty and very short articles** likely represent missing, corrupted, or poorly collected data, particularly in the \"politics\" subject.\n",
    "- **Unusually long articles** are expected in news data and are not necessarily errors.\n",
    "- These findings highlight the need for careful data cleaning, especially removing empty and very short articles to ensure quality modeling in later steps."
   ]
  },
  {
   "cell_type": "markdown",
   "id": "6d569255",
   "metadata": {},
   "source": [
    "# 6. Clustering\n",
    "\n",
    "Describe the purpose of **Clustering**, then provide any relevant code, tables, or visualizations below."
   ]
  },
  {
   "cell_type": "code",
   "execution_count": null,
   "id": "b8d6a795",
   "metadata": {},
   "outputs": [],
   "source": [
    "# Your code here"
   ]
  },
  {
   "cell_type": "markdown",
   "id": "97c40fbf",
   "metadata": {},
   "source": [
    "# 7. Segment Analysis\n",
    "\n",
    "Describe the purpose of **Segment Analysis**, then provide any relevant code, tables, or visualizations below."
   ]
  },
  {
   "cell_type": "code",
   "execution_count": null,
   "id": "6ae61d6c",
   "metadata": {},
   "outputs": [],
   "source": [
    "# Your code here"
   ]
  },
  {
   "cell_type": "markdown",
   "id": "4a988f39",
   "metadata": {},
   "source": [
    "# 8. Natural Language Processing (NLP)\n",
    "\n",
    "Describe the purpose of **Natural Language Processing (NLP)**, then provide any relevant code, tables, or visualizations below."
   ]
  },
  {
   "cell_type": "code",
   "execution_count": null,
   "id": "944444c9",
   "metadata": {},
   "outputs": [],
   "source": [
    "# Your code here"
   ]
  },
  {
   "cell_type": "markdown",
   "id": "1f787abe",
   "metadata": {},
   "source": [
    "# 9. Graphs\n",
    "\n",
    "Describe the purpose of **Graphs**, then provide any relevant code, tables, or visualizations below."
   ]
  },
  {
   "cell_type": "code",
   "execution_count": null,
   "id": "39a14bbc",
   "metadata": {},
   "outputs": [],
   "source": [
    "# Your code here"
   ]
  },
  {
   "cell_type": "markdown",
   "id": "1e7da091",
   "metadata": {},
   "source": [
    "# 10. Modeling\n",
    "\n",
    "Describe the purpose of **Modeling**, then provide any relevant code, tables, or visualizations below."
   ]
  },
  {
   "cell_type": "code",
   "execution_count": null,
   "id": "382b964d",
   "metadata": {},
   "outputs": [],
   "source": [
    "# Your code here"
   ]
  },
  {
   "cell_type": "markdown",
   "id": "feb57938",
   "metadata": {},
   "source": [
    "# 11. Reporting\n",
    "\n",
    "Describe the purpose of **Reporting**, then provide any relevant code, tables, or visualizations below."
   ]
  },
  {
   "cell_type": "code",
   "execution_count": null,
   "id": "380dc36d",
   "metadata": {},
   "outputs": [],
   "source": [
    "# Your code here"
   ]
  },
  {
   "cell_type": "markdown",
   "id": "217bb391",
   "metadata": {},
   "source": [
    "# 12. Improvements\n",
    "\n",
    "Describe the purpose of **Improvements**, then provide any relevant code, tables, or visualizations below."
   ]
  },
  {
   "cell_type": "code",
   "execution_count": null,
   "id": "c72b3752",
   "metadata": {},
   "outputs": [],
   "source": [
    "# Your code here"
   ]
  }
 ],
 "metadata": {
  "kernelspec": {
   "display_name": ".venv",
   "language": "python",
   "name": "python3"
  },
  "language_info": {
   "codemirror_mode": {
    "name": "ipython",
    "version": 3
   },
   "file_extension": ".py",
   "mimetype": "text/x-python",
   "name": "python",
   "nbconvert_exporter": "python",
   "pygments_lexer": "ipython3",
   "version": "3.12.3"
  }
 },
 "nbformat": 4,
 "nbformat_minor": 5
}
