{
 "cells": [
  {
   "cell_type": "markdown",
   "id": "74ea02f5",
   "metadata": {},
   "source": [
    "# Cyber Data Science – Full Pipeline\n",
    "\n",
    "Author: Basel Shaer\n",
    "\n",
    "---"
   ]
  },
  {
   "cell_type": "markdown",
   "id": "1981c165",
   "metadata": {},
   "source": [
    "## 1. Dataset Justification\n",
    "\n",
    "I selected the **\"Fake and Real News Dataset\"** from Kaggle because it provides a rich combination of textual, categorical, and temporal data that supports a full end-to-end data science pipeline. It includes news articles labeled as either *fake* or *real*, with fields such as title, full text, subject, and publication date.\n",
    "\n",
    "Furthermore, its relevance to current global issues like misinformation enhances the practical value of the project."
   ]
  },
  {
   "cell_type": "code",
   "execution_count": 2,
   "id": "4421319d",
   "metadata": {},
   "outputs": [
    {
     "data": {
      "text/html": [
       "<div>\n",
       "<style scoped>\n",
       "    .dataframe tbody tr th:only-of-type {\n",
       "        vertical-align: middle;\n",
       "    }\n",
       "\n",
       "    .dataframe tbody tr th {\n",
       "        vertical-align: top;\n",
       "    }\n",
       "\n",
       "    .dataframe thead th {\n",
       "        text-align: right;\n",
       "    }\n",
       "</style>\n",
       "<table border=\"1\" class=\"dataframe\">\n",
       "  <thead>\n",
       "    <tr style=\"text-align: right;\">\n",
       "      <th></th>\n",
       "      <th>title</th>\n",
       "      <th>text</th>\n",
       "      <th>subject</th>\n",
       "      <th>date</th>\n",
       "      <th>label</th>\n",
       "    </tr>\n",
       "  </thead>\n",
       "  <tbody>\n",
       "    <tr>\n",
       "      <th>0</th>\n",
       "      <td>Donald Trump Sends Out Embarrassing New Year’...</td>\n",
       "      <td>Donald Trump just couldn t wish all Americans ...</td>\n",
       "      <td>News</td>\n",
       "      <td>December 31, 2017</td>\n",
       "      <td>0</td>\n",
       "    </tr>\n",
       "    <tr>\n",
       "      <th>1</th>\n",
       "      <td>Drunk Bragging Trump Staffer Started Russian ...</td>\n",
       "      <td>House Intelligence Committee Chairman Devin Nu...</td>\n",
       "      <td>News</td>\n",
       "      <td>December 31, 2017</td>\n",
       "      <td>0</td>\n",
       "    </tr>\n",
       "    <tr>\n",
       "      <th>2</th>\n",
       "      <td>Sheriff David Clarke Becomes An Internet Joke...</td>\n",
       "      <td>On Friday, it was revealed that former Milwauk...</td>\n",
       "      <td>News</td>\n",
       "      <td>December 30, 2017</td>\n",
       "      <td>0</td>\n",
       "    </tr>\n",
       "    <tr>\n",
       "      <th>3</th>\n",
       "      <td>Trump Is So Obsessed He Even Has Obama’s Name...</td>\n",
       "      <td>On Christmas day, Donald Trump announced that ...</td>\n",
       "      <td>News</td>\n",
       "      <td>December 29, 2017</td>\n",
       "      <td>0</td>\n",
       "    </tr>\n",
       "    <tr>\n",
       "      <th>4</th>\n",
       "      <td>Pope Francis Just Called Out Donald Trump Dur...</td>\n",
       "      <td>Pope Francis used his annual Christmas Day mes...</td>\n",
       "      <td>News</td>\n",
       "      <td>December 25, 2017</td>\n",
       "      <td>0</td>\n",
       "    </tr>\n",
       "  </tbody>\n",
       "</table>\n",
       "</div>"
      ],
      "text/plain": [
       "                                               title  \\\n",
       "0   Donald Trump Sends Out Embarrassing New Year’...   \n",
       "1   Drunk Bragging Trump Staffer Started Russian ...   \n",
       "2   Sheriff David Clarke Becomes An Internet Joke...   \n",
       "3   Trump Is So Obsessed He Even Has Obama’s Name...   \n",
       "4   Pope Francis Just Called Out Donald Trump Dur...   \n",
       "\n",
       "                                                text subject  \\\n",
       "0  Donald Trump just couldn t wish all Americans ...    News   \n",
       "1  House Intelligence Committee Chairman Devin Nu...    News   \n",
       "2  On Friday, it was revealed that former Milwauk...    News   \n",
       "3  On Christmas day, Donald Trump announced that ...    News   \n",
       "4  Pope Francis used his annual Christmas Day mes...    News   \n",
       "\n",
       "                date  label  \n",
       "0  December 31, 2017      0  \n",
       "1  December 31, 2017      0  \n",
       "2  December 30, 2017      0  \n",
       "3  December 29, 2017      0  \n",
       "4  December 25, 2017      0  "
      ]
     },
     "execution_count": 2,
     "metadata": {},
     "output_type": "execute_result"
    }
   ],
   "source": [
    "import pandas as pd\n",
    "\n",
    "# Load fake and real datasets\n",
    "fake_df = pd.read_csv(\"../data/fake_news_dataset/Fake.csv\")\n",
    "real_df = pd.read_csv(\"../data/fake_news_dataset/True.csv\")\n",
    "\n",
    "# Add a 'label' column to each: 0 = fake, 1 = real\n",
    "fake_df[\"label\"] = 0\n",
    "real_df[\"label\"] = 1\n",
    "\n",
    "# Combine into one dataframe\n",
    "df = pd.concat([fake_df, real_df], ignore_index=True)\n",
    "\n",
    "# Show first 5 rows\n",
    "df.head()\n"
   ]
  },
  {
   "cell_type": "markdown",
   "id": "e12d822a",
   "metadata": {},
   "source": [
    "## 2. System Stage\n",
    "\n",
    "The dataset was downloaded from [Kaggle](https://www.kaggle.com/datasets/clmentbisaillon/fake-and-real-news-dataset). It consists of two CSV files:\n",
    "\n",
    "- `Fake.csv`: 23,502 fake news articles\n",
    "- `True.csv`: 21,417 real news articles\n",
    "\n",
    "Each file contains the following columns:\n",
    "- `title`: Title of the news article\n",
    "- `text`: Full body of the news article\n",
    "- `subject`: Category or topic of the article\n",
    "- `date`: Publish date\n",
    "- `label`: Added manually (0 = Fake, 1 = Real)\n",
    "\n",
    "**File System Information:**\n",
    "- `Format`: CSV (comma-separated values)\n",
    "- `Protocol`: HTTP download from Kaggle\n",
    "- `Versions`: One main version (no updates or revisions at the time of use)\n",
    "\n",
    "The files are stored locally under `data/fake_news_dataset/`.\n",
    "\n",
    "Version control is managed via Git and GitHub in this project repository.\n",
    "\n",
    "- `Repository`: [GitHub - cyber-data-pipeline](https://github.com/Basel6/Cyber-Data-Pipeline.git)\n"
   ]
  },
  {
   "cell_type": "code",
   "execution_count": 3,
   "id": "2c1331d6",
   "metadata": {},
   "outputs": [
    {
     "name": "stdout",
     "output_type": "stream",
     "text": [
      "Fake.csv size: 61318.23828125 KB\n",
      "True.csv size: 52327.08984375 KB\n"
     ]
    }
   ],
   "source": [
    "import os\n",
    "\n",
    "fake_path = \"../data/fake_news_dataset/Fake.csv\"\n",
    "real_path = \"../data/fake_news_dataset/True.csv\"\n",
    "\n",
    "print(\"Fake.csv size:\", os.path.getsize(fake_path) / 1024, \"KB\")\n",
    "print(\"True.csv size:\", os.path.getsize(real_path) / 1024, \"KB\")\n"
   ]
  },
  {
   "cell_type": "markdown",
   "id": "9b7dc56e",
   "metadata": {},
   "source": [
    "## 3. Metadata\n",
    "\n",
    "Describe the purpose of **Metadata**, then provide any relevant code, tables, or visualizations below."
   ]
  },
  {
   "cell_type": "code",
   "execution_count": null,
   "id": "2c56b6b1",
   "metadata": {},
   "outputs": [],
   "source": [
    "# Your code here"
   ]
  },
  {
   "cell_type": "markdown",
   "id": "4f2bb3e1",
   "metadata": {},
   "source": [
    "## 4. Statistics\n",
    "\n",
    "Describe the purpose of **Statistics**, then provide any relevant code, tables, or visualizations below."
   ]
  },
  {
   "cell_type": "code",
   "execution_count": null,
   "id": "7c003a30",
   "metadata": {},
   "outputs": [],
   "source": [
    "# Your code here"
   ]
  },
  {
   "cell_type": "markdown",
   "id": "2dd7f9f6",
   "metadata": {},
   "source": [
    "## 5. Abnormality Detection\n",
    "\n",
    "Describe the purpose of **Abnormality Detection**, then provide any relevant code, tables, or visualizations below."
   ]
  },
  {
   "cell_type": "code",
   "execution_count": null,
   "id": "c2526960",
   "metadata": {},
   "outputs": [],
   "source": [
    "# Your code here"
   ]
  },
  {
   "cell_type": "markdown",
   "id": "6d569255",
   "metadata": {},
   "source": [
    "## 6. Clustering\n",
    "\n",
    "Describe the purpose of **Clustering**, then provide any relevant code, tables, or visualizations below."
   ]
  },
  {
   "cell_type": "code",
   "execution_count": null,
   "id": "b8d6a795",
   "metadata": {},
   "outputs": [],
   "source": [
    "# Your code here"
   ]
  },
  {
   "cell_type": "markdown",
   "id": "97c40fbf",
   "metadata": {},
   "source": [
    "## 7. Segment Analysis\n",
    "\n",
    "Describe the purpose of **Segment Analysis**, then provide any relevant code, tables, or visualizations below."
   ]
  },
  {
   "cell_type": "code",
   "execution_count": null,
   "id": "6ae61d6c",
   "metadata": {},
   "outputs": [],
   "source": [
    "# Your code here"
   ]
  },
  {
   "cell_type": "markdown",
   "id": "4a988f39",
   "metadata": {},
   "source": [
    "## 8. Natural Language Processing (NLP)\n",
    "\n",
    "Describe the purpose of **Natural Language Processing (NLP)**, then provide any relevant code, tables, or visualizations below."
   ]
  },
  {
   "cell_type": "code",
   "execution_count": null,
   "id": "944444c9",
   "metadata": {},
   "outputs": [],
   "source": [
    "# Your code here"
   ]
  },
  {
   "cell_type": "markdown",
   "id": "1f787abe",
   "metadata": {},
   "source": [
    "## 9. Graphs\n",
    "\n",
    "Describe the purpose of **Graphs**, then provide any relevant code, tables, or visualizations below."
   ]
  },
  {
   "cell_type": "code",
   "execution_count": null,
   "id": "39a14bbc",
   "metadata": {},
   "outputs": [],
   "source": [
    "# Your code here"
   ]
  },
  {
   "cell_type": "markdown",
   "id": "1e7da091",
   "metadata": {},
   "source": [
    "## 10. Modeling\n",
    "\n",
    "Describe the purpose of **Modeling**, then provide any relevant code, tables, or visualizations below."
   ]
  },
  {
   "cell_type": "code",
   "execution_count": null,
   "id": "382b964d",
   "metadata": {},
   "outputs": [],
   "source": [
    "# Your code here"
   ]
  },
  {
   "cell_type": "markdown",
   "id": "feb57938",
   "metadata": {},
   "source": [
    "## 11. Reporting\n",
    "\n",
    "Describe the purpose of **Reporting**, then provide any relevant code, tables, or visualizations below."
   ]
  },
  {
   "cell_type": "code",
   "execution_count": null,
   "id": "380dc36d",
   "metadata": {},
   "outputs": [],
   "source": [
    "# Your code here"
   ]
  },
  {
   "cell_type": "markdown",
   "id": "217bb391",
   "metadata": {},
   "source": [
    "## 12. Improvements\n",
    "\n",
    "Describe the purpose of **Improvements**, then provide any relevant code, tables, or visualizations below."
   ]
  },
  {
   "cell_type": "code",
   "execution_count": null,
   "id": "c72b3752",
   "metadata": {},
   "outputs": [],
   "source": [
    "# Your code here"
   ]
  }
 ],
 "metadata": {
  "kernelspec": {
   "display_name": ".venv",
   "language": "python",
   "name": "python3"
  },
  "language_info": {
   "codemirror_mode": {
    "name": "ipython",
    "version": 3
   },
   "file_extension": ".py",
   "mimetype": "text/x-python",
   "name": "python",
   "nbconvert_exporter": "python",
   "pygments_lexer": "ipython3",
   "version": "3.12.3"
  }
 },
 "nbformat": 4,
 "nbformat_minor": 5
}
